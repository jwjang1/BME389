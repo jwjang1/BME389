{
  "nbformat": 4,
  "nbformat_minor": 0,
  "metadata": {
    "colab": {
      "name": "hw3.ipynb",
      "provenance": [],
      "collapsed_sections": []
    },
    "kernelspec": {
      "name": "python3",
      "display_name": "Python 3"
    }
  },
  "cells": [
    {
      "cell_type": "code",
      "metadata": {
        "id": "YMJ1ZlO3M0Wb"
      },
      "source": [
        "#import packages\n",
        "import time\n",
        "from copy import deepcopy\n",
        "import json\n",
        "import pymongo\n",
        "import os\n",
        "import datetime\n",
        "import pandas\n",
        "import math"
      ],
      "execution_count": null,
      "outputs": []
    },
    {
      "cell_type": "code",
      "metadata": {
        "id": "C2HOAOhhNBr2",
        "colab": {
          "base_uri": "https://localhost:8080/",
          "height": 85
        },
        "outputId": "1e6b179c-10b5-4ccf-84ce-0a6e6668710d"
      },
      "source": [
        "#get the username and and password information - You need to run it one time at start\n",
        "from getpass import getpass\n",
        "\n",
        "USER = getpass('Enter User Name here: ')\n",
        "PASS = getpass('Enter Password here: ')\n",
        "HOST = getpass('Enter HOST here: ')\n",
        "PORT = getpass('Enter PORT here: ')"
      ],
      "execution_count": null,
      "outputs": [
        {
          "output_type": "stream",
          "text": [
            "Enter User Name here: ··········\n",
            "Enter Password here: ··········\n",
            "Enter HOST here: ··········\n",
            "Enter PORT here: ··········\n"
          ],
          "name": "stdout"
        }
      ]
    },
    {
      "cell_type": "code",
      "metadata": {
        "id": "SSh44RaENPQD"
      },
      "source": [
        "#set up mongo connection\n",
        "mongo_url = \"mongodb://{}:{}@{}:{}/?authSource={}\".format(USER,\n",
        "                                                         PASS,\n",
        "                                                         HOST,\n",
        "                                                         PORT,\n",
        "                                                         \"lahman\")\n",
        "\n",
        "client = pymongo.MongoClient(mongo_url)"
      ],
      "execution_count": null,
      "outputs": []
    },
    {
      "cell_type": "code",
      "metadata": {
        "id": "tG8_CEU3NQXT",
        "colab": {
          "base_uri": "https://localhost:8080/",
          "height": 71
        },
        "outputId": "7c787494-9354-43b0-c86e-bf936db8287f"
      },
      "source": [
        "# Testing connection!\n",
        "db = client['lahman']\n",
        "#now print all collection names\n",
        "print(\"collection names: {}\".format(db.list_collection_names()))\n",
        "reading = db['Batting'].find_one()\n",
        "#print one batting documents\n",
        "reading[\"_id\"] = str(reading[\"_id\"])\n",
        "print(reading)"
      ],
      "execution_count": null,
      "outputs": [
        {
          "output_type": "stream",
          "text": [
            "collection names: ['AwardsSharePlayers', 'HallOfFame', 'SeriesPost', 'Batting', 'Master', 'AwardsManagers', 'Managers', 'FieldingOF', 'TeamsHalf', 'TeamsFranchises', 'PitchingPost', 'AwardsPlayers', 'Appearances', 'Pitching', 'AllstarFull', 'Salaries', 'Fielding', 'FieldingPost', 'SchoolsPlayers', 'AwardsShareManagers', 'ManagersHalf', 'BattingPost', 'Teams', 'Schools']\n",
            "{'_id': '5e4ac8491431cc803cb47824', 'playerID': 'aardsda01', 'yearID': 2004, 'stint': 1, 'teamID': 'SFN', 'lgID': 'NL', 'G': 11, 'G_batting': 11, 'AB': 0, 'R': 0, 'H': 0, '2B': 0, '3B': 0, 'HR': 0, 'RBI': 0, 'SB': 0, 'CS': 0, 'BB': 0, 'SO': 0, 'IBB': 0, 'HBP': 0, 'SH': 0, 'SF': 0, 'GIDP': 0, 'G_old': 11}\n"
          ],
          "name": "stdout"
        }
      ]
    },
    {
      "cell_type": "markdown",
      "metadata": {
        "id": "7Crn67V-OEuN"
      },
      "source": [
        "## Part 1 Queries\n",
        "\n",
        "1. The number of all stars in allstarfull.\n",
        "2. The most home runs in a season by a single player (using the batting table).\n",
        "3. The playerid of the player with the most home runs in a season.\n",
        "4. The number of leagues in the batting table.\n",
        "5. Barry Bond's average batting average (playerid = 'bondsba01') where batting average is hits / at-bats. Note you will nead to cast hits to get a decimal: cast(h as real)\n",
        "6. The teamid with the fewest hits in the year 2000 (ie., yearid = '2000'). Return both the teamid, and the number of hits. Note you can use ORDER BY column and LIMIT 1.\n",
        "7. The teamid in the year 2000 (i.e., yearid = '2000') with the highest average batting average. Return the teamid and the average. To prevent divsion by 0, limit at-bats > 0.\n",
        "8. The number of all stars the giants (teamid = 'SFN') had in 2000.\n",
        "9. The yearid which the giants had the most all stars.\n",
        "10. The average salary in year 2000.\n",
        "11. The number of positions (e.g., catchers, pitchers) that have average salaries greather than 2000000 in yearid 2000. You will need to join fielding with salaries. Also consider using a HAVING clause.\n",
        "12. The number of errors Barry Bonds had in 2000.\n",
        "13. The average salary of all stars in 2000.\n",
        "14. The average salary of non-all stars in 2000."
      ]
    },
    {
      "cell_type": "code",
      "metadata": {
        "id": "Mt50mJOZSm7U"
      },
      "source": [
        "def q1():\n",
        " \n",
        "\n",
        "\n",
        "def q2():\n",
        "\n",
        "\n",
        "\n",
        "def q3():\n",
        "\n",
        "\n",
        "\n",
        "def q4():\n",
        "\n",
        "\n",
        "\n",
        "def q5():\n",
        "\n",
        "\n",
        "def q6():\n",
        "\n",
        "\n",
        "\n",
        "def q7():\n",
        "\n",
        "   \n",
        "\n",
        "def q8():\n",
        "\n",
        "\n",
        "\n",
        "def q9():\n",
        "\n",
        "\n",
        "\n",
        "def q10():\n",
        "\n",
        "\n",
        "\n",
        "def q11():\n",
        " \n",
        "\n",
        "\n",
        "def q12():\n",
        "\n",
        "\n",
        "\n",
        "def q13():\n",
        " \n",
        "\n",
        "def q14():\n",
        " \n"
      ],
      "execution_count": null,
      "outputs": []
    },
    {
      "cell_type": "code",
      "metadata": {
        "id": "FwHho8fEP9QQ"
      },
      "source": [
        "def test_q1():\n",
        "    result_q1 = q1()\n",
        "    assert result_q1 == 4834\n",
        "\n",
        "def test_q2():\n",
        "    result_q2 = q2()\n",
        "    assert result_q2 == 73\n",
        "\n",
        "def test_q3():\n",
        "    result_q3 = q3()\n",
        "    assert result_q3 == 'bondsba01'\n",
        "\n",
        "def test_q4():\n",
        "    result_q4 = q4()\n",
        "    assert result_q4 == 7\n",
        "\n",
        "def test_q5():\n",
        "    result_q5 = q5()\n",
        "    assert math.isclose(result_q5, 0.29830576286005)\n",
        "\n",
        "def test_q6():\n",
        "    result_q6 = q6()\n",
        "    assert result_q6[0] == 'MIL'\n",
        "    assert result_q6[1] == 1366\n",
        "\n",
        "def test_q7():\n",
        "    result_q7 = q7()\n",
        "    assert result_q7[0] == 'SEA'\n",
        "    assert math.isclose(result_q7[1], 0.280799158489005)\n",
        "\n",
        "def test_q8():\n",
        "    result_q8 = q8()\n",
        "    assert result_q8 == 2\n",
        "\n",
        "def test_q9():\n",
        "    result_q9 = q9()\n",
        "    assert result_q9 == 1966\n",
        "\n",
        "def test_q10():\n",
        "    result_q10 = q10()\n",
        "    assert int(result_q10) == 1992984\n",
        "\n",
        "def test_q11():\n",
        "    result_q11 = q11()\n",
        "    assert result_q11 == 3\n",
        "\n",
        "def test_q12():\n",
        "    result_q12 = q12()\n",
        "    assert result_q12 == 6\n",
        "\n",
        "def test_q13():\n",
        "    result_q13 = q13()\n",
        "    assert int(result_q13) == 5388841\n",
        "\n",
        "def test_q14():\n",
        "    result_q14 = q14()\n",
        "    assert int(result_q14) == 1692309"
      ],
      "execution_count": null,
      "outputs": []
    },
    {
      "cell_type": "code",
      "metadata": {
        "id": "FU8OU7uAQFow"
      },
      "source": [
        "test_q1()\n",
        "print('Q1 - succesful')\n",
        "test_q2()\n",
        "print('Q2 - succesful')\n",
        "test_q3()\n",
        "print('Q3 - succesful')\n",
        "test_q4()\n",
        "print('Q4 - succesful')\n",
        "test_q5()\n",
        "print('Q5 - succesful')\n",
        "test_q6()\n",
        "print('Q6 - succesful')\n",
        "test_q7()\n",
        "print('Q7 - succesful')\n",
        "test_q8()\n",
        "print('Q8 - succesful')\n",
        "test_q9()\n",
        "print('Q9 - succesful')\n",
        "test_q10()\n",
        "print('Q10 - succesful')\n",
        "test_q11()\n",
        "print('Q11 - succesful')\n",
        "test_q12()\n",
        "print('Q12 - succesful')\n",
        "test_q13()\n",
        "print('Q13 - succesful')\n",
        "test_q14()\n",
        "print('Q14 - succesful')\n",
        "\n",
        "print('All asserts are successful!')"
      ],
      "execution_count": null,
      "outputs": []
    },
    {
      "cell_type": "markdown",
      "metadata": {
        "id": "rjyWYzF1vAhp"
      },
      "source": [
        "## Part 2 Timing Plots"
      ]
    },
    {
      "cell_type": "code",
      "metadata": {
        "id": "9bp2xV1Ku6oq"
      },
      "source": [
        "\n",
        "\n"
      ],
      "execution_count": null,
      "outputs": []
    },
    {
      "cell_type": "markdown",
      "metadata": {
        "id": "aN68yFl82uPx"
      },
      "source": [
        "## PART 3 Improving query timing\n"
      ]
    },
    {
      "cell_type": "code",
      "metadata": {
        "id": "ul3_CjlO3WZ2"
      },
      "source": [
        ""
      ],
      "execution_count": null,
      "outputs": []
    }
  ]
}