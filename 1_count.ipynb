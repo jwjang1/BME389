{
  "nbformat": 4,
  "nbformat_minor": 0,
  "metadata": {
    "kernelspec": {
      "name": "python3",
      "display_name": "Python 3"
    },
    "colab": {
      "name": "1_count.ipynb",
      "provenance": [],
      "include_colab_link": true
    }
  },
  "cells": [
    {
      "cell_type": "markdown",
      "metadata": {
        "id": "view-in-github",
        "colab_type": "text"
      },
      "source": [
        "<a href=\"https://colab.research.google.com/github/jw-jang/BME3890/blob/main/1_count.ipynb\" target=\"_parent\"><img src=\"https://colab.research.google.com/assets/colab-badge.svg\" alt=\"Open In Colab\"/></a>"
      ]
    },
    {
      "cell_type": "code",
      "metadata": {
        "id": "sy-aSAWL-Cj-"
      },
      "source": [
        "#install mrjob\n",
        "!pip install mrjob"
      ],
      "execution_count": null,
      "outputs": []
    },
    {
      "cell_type": "code",
      "metadata": {
        "pycharm": {
          "name": "#%%\n"
        },
        "id": "CYgh6C__ZH-Y"
      },
      "source": [
        "from google.colab import files\n",
        "\n",
        "# upload dataset\n",
        "uploaded = files.upload()\n",
        "for fn in uploaded.keys():\n",
        "  print('User uploaded file \"{name}\" with length {length} bytes'.format(\n",
        "      name=fn, length=len(uploaded[fn])))"
      ],
      "execution_count": null,
      "outputs": []
    },
    {
      "cell_type": "code",
      "metadata": {
        "pycharm": {
          "name": "#%%\n"
        },
        "id": "6f4afphZZH-Y"
      },
      "source": [
        "from google.colab import files\n",
        "\n",
        "# upload mrjob.conf under current directory(/content/mrjob.conf)\n",
        "uploaded = files.upload()\n",
        "for fn in uploaded.keys():\n",
        "  print('User uploaded file \"{name}\" with length {length} bytes'.format(\n",
        "      name=fn, length=len(uploaded[fn])))"
      ],
      "execution_count": null,
      "outputs": []
    },
    {
      "cell_type": "code",
      "metadata": {
        "id": "alNXuVAd7-6A"
      },
      "source": [
        "%%file 1_count.py\n",
        "from mrjob.job import MRJob\n",
        "import json\n",
        "\n",
        "'''\n",
        "Count the number of tweets.\n",
        "Parse tweets with json.loads -- note how the tweets are huge JSON blobs.\n",
        "Ignore tweets that error on load.\n",
        "'''\n",
        "\n",
        "class CountTweets(MRJob):\n",
        "    def mapper(self, _, line):\n",
        "        try:\n",
        "            # Parse with: tweet = json.loads(line)\n",
        "            tweet = json.loads(line)\n",
        "            # do something\n",
        "            if len(tweet) >= 4:\n",
        "              for (key, value) in tweet:\n",
        "                yield(key, 1)\n",
        "        except:\n",
        "            pass\n",
        "\n",
        "    def reducer(self, key, counts):\n",
        "        ### yield some output with a key of 'lines'\n",
        "        #yield 'lines', some value here\n",
        "        ### note that you are trying to count - so the key should remain same. So think what should be the key that is outputted from the map step. \n",
        "        yield(key, sum(counts)))\n",
        "\n",
        "if __name__ == '__main__': \n",
        "  CountTweets.run()\n"
      ],
      "execution_count": null,
      "outputs": []
    },
    {
      "source": [
        "## Step 1. Run MR program locally(Colab)"
      ],
      "cell_type": "markdown",
      "metadata": {
        "id": "d7GK1ZmaB6bT"
      }
    },
    {
      "cell_type": "code",
      "metadata": {
        "id": "y6DNH7cM_M9u"
      },
      "source": [
        "#first run the program without catching output. Look for errors\n",
        "%%timeit\n",
        "!python 1_count.py -r local nashville-tweets-2019-01-28 > 1_count.out"
      ],
      "execution_count": null,
      "outputs": []
    },
    {
      "cell_type": "code",
      "metadata": {
        "id": "3Szkdv2eZH-Z"
      },
      "source": [
        "!cat 1_count.out"
      ],
      "execution_count": null,
      "outputs": []
    },
    {
      "source": [
        "## Step 2. Run MR program on AWS EMR"
      ],
      "cell_type": "markdown",
      "metadata": {
        "id": "6w71C0SRB6bX"
      }
    },
    {
      "source": [
        "### Please copy nashville-tweets-2019-01-28 into your S3 bucket. This is a manual process. You did this in previous assignments."
      ],
      "cell_type": "markdown",
      "metadata": {
        "id": "Ba02YuVRB6bY"
      }
    },
    {
      "cell_type": "code",
      "metadata": {
        "id": "BPhSD0q49_7X"
      },
      "source": [
        "#run the program. Capture output\n",
        "%%timeit\n",
        "!python 1_count.py -r emr s3://<s3 object url of the Tweet dataset> --cloud-tmp-dir=s3://<s3 object url of tmp directory> --cluster-id=<cluster ID> --conf-path <mrjob.conf file path in colab> > 1_count.out"
      ],
      "execution_count": null,
      "outputs": []
    },
    {
      "cell_type": "code",
      "metadata": {
        "id": "3txbuKmHZH-a"
      },
      "source": [
        "!cat 1_count.out"
      ],
      "execution_count": null,
      "outputs": []
    },
    {
      "cell_type": "code",
      "metadata": {
        "id": "dzxDeDMm_JBo"
      },
      "source": [
        "#test output. Should pass if the output is correct.\n",
        "f = open('1_count.out')\n",
        "lines = f.readlines()\n",
        "f.close()\n",
        "\n",
        "if lines[0][:-1] in ['\"lines\"\\t6294']:\n",
        "  print(\"test passed\")\n",
        "else:\n",
        "  print(\"test failed\")"
      ],
      "execution_count": null,
      "outputs": []
    }
  ]
}